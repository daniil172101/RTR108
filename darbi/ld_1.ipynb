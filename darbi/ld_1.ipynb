{
 "cells": [
  {
   "cell_type": "markdown",
   "metadata": {},
   "source": [
    "# 1.laboratorijas darba (Teilora rindas) atskaite"
   ]
  },
  {
   "cell_type": "markdown",
   "metadata": {},
   "source": [
    "## Teorija\n",
    "Izmantojot Teilora rundu, var vieglāk atrast funkcijas vērtību, aizstājot funkciju ar pakāpes serijas summu."
   ]
  },
  {
   "cell_type": "markdown",
   "metadata": {},
   "source": [
    "### Kods"
   ]
  },
  {
   "cell_type": "code",
   "execution_count": 1,
   "metadata": {},
   "outputs": [
    {
     "name": "stdout",
     "output_type": "stream",
     "text": [
      "Funkcijas (1+x)*exp(x) aprēķināšana: \n",
      "\n",
      "Lietotājs, lūdzu, ievadi x vērtību: 2.05\n",
      "(1 + 2.05)*exp(2.05) = 23.69\n",
      "\n",
      "a0 = 3.050000e+00\tS0 =3.05\n",
      "\n",
      "a999 = 0.000000e+00\tS999 =23.69\n",
      "\n",
      "a1000 = 0.000000e+00\tS1000 =23.69\n",
      "\n",
      "\n",
      "\n",
      "\t\t1000\n",
      "\n",
      "\t\t----\n",
      "\n",
      "\t\t\\\t\t        k\n",
      "\n",
      "\t\t \\\t\t(1+x)*x\n",
      "\n",
      "f(x)=\t\t|\t    ----------------\n",
      "\n",
      "\t\t /\t\t   k!\n",
      "\n",
      "\t\t/\n",
      "\n",
      "\t\t----\n",
      "\n",
      "\t\tk=0\n",
      "\n",
      "\n",
      "\n",
      "\t\t\tx\n",
      "\n",
      "R=\t\t   -----------\n",
      "\n",
      "\t\t\tk\n",
      "\n"
     ]
    }
   ],
   "source": [
    "from math import exp\n",
    "\n",
    "print('Funkcijas (1+x)*exp(x) aprēķināšana: \\n')\n",
    "x = float(input('Lietotājs, lūdzu, ievadi x vērtību: '))\n",
    "y = (1+x)*exp(x)\n",
    "\n",
    "print('(1 + %.2f)*exp(%.2f) = %.2f\\n'%(x,x,y))\n",
    "\n",
    "a = (1+x)*pow(x,0)/(1);\n",
    "s = 0\n",
    "s = s + a\n",
    "k = 0\n",
    "while k < 1000:\n",
    "    if k ==0:\n",
    "        print('a0 = %e\\tS0 =%.2f\\n'%(a,s))\n",
    "    k = k+1\n",
    "    a = a*x/(k);\n",
    "    s = s+a\n",
    "    if k == 999:\n",
    "        print('a999 = %Le\\tS999 =%.2Lf\\n'%(a,s))\n",
    "\n",
    "print('a1000 = %e\\tS1000 =%.2f\\n'%(a,s))\n",
    "\n",
    "print('\\n')\n",
    "print('\\t\\t1000\\n')\n",
    "print('\\t\\t----\\n')\n",
    "print('\\t\\t\\\\\\t\\t        k\\n')\n",
    "print('\\t\\t \\\\\\t\\t(1+x)*x\\n')\n",
    "print('f(x)=\\t\\t|\\t    ----------------\\n')\n",
    "print('\\t\\t /\\t\\t   k!\\n')\n",
    "print('\\t\\t/\\n')\n",
    "print('\\t\\t----\\n')\n",
    "print('\\t\\tk=0\\n')\n",
    "\n",
    "print('\\n')\n",
    "print('\\t\\t\\tx\\n')\n",
    "print('R=\\t\\t   -----------\\n')\n",
    "print('\\t\\t\\tk\\n')\n"
   ]
  },
  {
   "cell_type": "markdown",
   "metadata": {},
   "source": [
    "### Analīze\n",
    "Izpildot kodu, man sanāca, ka rezultāti, kuri ir iegūti ar Teilora rindu palīdzību, sakrīt ar apŗēķinātu funkcijas vērtību."
   ]
  },
  {
   "cell_type": "markdown",
   "metadata": {},
   "source": [
    "### Bildes\n",
    "<img src=\"https://raw.githubusercontent.com/daniil172101/RTR105_2019/master/darbi/1ld_series/funkcija.png\">"
   ]
  }
 ],
 "metadata": {
  "kernelspec": {
   "display_name": "Python 3",
   "language": "python",
   "name": "python3"
  },
  "language_info": {
   "codemirror_mode": {
    "name": "ipython",
    "version": 3
   },
   "file_extension": ".py",
   "mimetype": "text/x-python",
   "name": "python",
   "nbconvert_exporter": "python",
   "pygments_lexer": "ipython3",
   "version": "3.6.4"
  }
 },
 "nbformat": 4,
 "nbformat_minor": 2
}
