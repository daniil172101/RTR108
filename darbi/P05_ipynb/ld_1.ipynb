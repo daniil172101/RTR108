{
 "cells": [
  {
   "cell_type": "markdown",
   "metadata": {},
   "source": [
    "# 1.laboratorijas darba (Teilora rindas) atskaite"
   ]
  },
  {
   "cell_type": "markdown",
   "metadata": {},
   "source": [
    "## Teorija\n",
    "Izmantojot Teilora rundu, var vieglāk atrast funkcijas vērtību, aizstājot funkciju ar pakāpes serijas summu."
   ]
  },
  {
   "cell_type": "markdown",
   "metadata": {},
   "source": [
    "### Kods"
   ]
  },
  {
   "cell_type": "code",
   "execution_count": 1,
   "metadata": {
    "scrolled": true
   },
   "outputs": [
    {
     "name": "stdout",
     "output_type": "stream",
     "text": [
      "Funkcijas (1+x)*exp(x) aprēķināšana: \n",
      "\n",
      "Lietotājs, lūdzu, ievadi x vērtību: 2\n",
      "(1 + 2.00)*exp(2.00) = 22.17\n",
      "\n",
      "a0 = 3.000000e+00\tS0 =3.00\n",
      "\n",
      "a999 = 0.000000e+00\tS999 =22.17\n",
      "\n",
      "a1000 = 0.000000e+00\tS1000 =22.17\n",
      "\n",
      "\n",
      "\n",
      "\t\t1000\n",
      "\n",
      "\t\t----\n",
      "\n",
      "\t\t\\\t\t        k\n",
      "\n",
      "\t\t \\\t\t(1+x)*x\n",
      "\n",
      "f(x)=\t\t|\t    ----------------\n",
      "\n",
      "\t\t /\t\t   k!\n",
      "\n",
      "\t\t/\n",
      "\n",
      "\t\t----\n",
      "\n",
      "\t\tk=0\n",
      "\n",
      "\n",
      "\n",
      "\t\t\tx\n",
      "\n",
      "R=\t\t   -----------\n",
      "\n",
      "\t\t\tk\n",
      "\n"
     ]
    },
    {
     "data": {
      "image/png": "[encoded data removed]",
      "text/plain": [
       "<matplotlib.figure.Figure at 0xb504bf2c>"
      ]
     },
     "metadata": {},
     "output_type": "display_data"
    }
   ],
   "source": [
    "from math import exp\n",
    "import matplotlib\n",
    "import matplotlib.pyplot as plt\n",
    "import numpy as np\n",
    "%matplotlib inline\n",
    "\n",
    "def mana_funkcija(x):\n",
    "    a = (1+x)*pow(x,0)/(1)\n",
    "    s = 0\n",
    "    s = s + a\n",
    "    k = 0\n",
    "    while k < 1000:\n",
    "        if k ==0:\n",
    "            print('a0 = %e\\tS0 =%.2f\\n'%(a,s))\n",
    "        k = k+1\n",
    "        a = a*x/(k);\n",
    "        s = s+a\n",
    "        if k == 999:\n",
    "            print('a999 = %Le\\tS999 =%.2Lf\\n'%(a,s))\n",
    "        \n",
    "    print('a1000 = %e\\tS1000 =%.2f\\n'%(a,s))\n",
    "\n",
    "def mana_funkcija_plt(x):\n",
    "    a = (1+x)*pow(x,0)/(1)\n",
    "    s = 0\n",
    "    s = s + a\n",
    "    k = 0\n",
    "    while k < 1000:\n",
    "        k = k+1\n",
    "        a = a*x/(k);\n",
    "        s = s+a\n",
    "    return s\n",
    "\n",
    "print('Funkcijas (1+x)*exp(x) aprēķināšana: \\n')\n",
    "x = float(input('Lietotājs, lūdzu, ievadi x vērtību: '))            # x vērtība pieder no -∞ līdz ∞ \n",
    "y = (1+x)*exp(x)\n",
    "\n",
    "print('(1 + %.2f)*exp(%.2f) = %.2f\\n'%(x,x,y))\n",
    "\n",
    "mana_funkcija(x)\n",
    "        \n",
    "print('\\n')\n",
    "print('\\t\\t1000\\n')\n",
    "print('\\t\\t----\\n')\n",
    "print('\\t\\t\\\\\\t\\t        k\\n')\n",
    "print('\\t\\t \\\\\\t\\t(1+x)*x\\n')\n",
    "print('f(x)=\\t\\t|\\t    ----------------\\n')\n",
    "print('\\t\\t /\\t\\t   k!\\n')\n",
    "print('\\t\\t/\\n')\n",
    "print('\\t\\t----\\n')\n",
    "print('\\t\\tk=0\\n')\n",
    "\n",
    "print('\\n')\n",
    "print('\\t\\t\\tx\\n')\n",
    "print('R=\\t\\t   -----------\\n')\n",
    "print('\\t\\t\\tk\\n')\n",
    "\n",
    "x= np.arange(0.0,10.0,0.01)\n",
    "y = (1+x)*np.exp(x)\n",
    "yy = mana_funkcija_plt(x)\n",
    "\n",
    "ax1=plt.subplot(121)\n",
    "plt.plot(x,y)\n",
    "plt.xlabel('x')\n",
    "plt.ylabel('y')\n",
    "plt.title('Funkcijas f(x) grafiku zīmēšana izmantojot funkcijas izteiksmi')\n",
    "plt.grid()\n",
    "\n",
    "box = ax1.get_position()\n",
    "box.x0 = box.x0 - 0.55\n",
    "box.x1 = box.x1 - 0.55\n",
    "ax1.set_position(box)\n",
    "\n",
    "ax2=plt.subplot(122)\n",
    "plt.plot(x,yy)\n",
    "plt.xlabel('x')\n",
    "plt.ylabel('y')\n",
    "plt.title('Funkcijas f(x) grafiku zīmēšana izmantojot Teilora rindas izteiksmi')\n",
    "plt.grid()\n",
    "plt.show()\n"
   ]
  },
  {
   "cell_type": "markdown",
   "metadata": {},
   "source": [
    "### Analīze\n",
    "Izpildot kodu, man sanāca, ka rezultāti, kuri ir iegūti ar Teilora rindu palīdzību, sakrīt ar apŗēķinātu funkcijas vērtību."
   ]
  }
 ],
 "metadata": {
  "kernelspec": {
   "display_name": "Python 3",
   "language": "python",
   "name": "python3"
  },
  "language_info": {
   "codemirror_mode": {
    "name": "ipython",
    "version": 3
   },
   "file_extension": ".py",
   "mimetype": "text/x-python",
   "name": "python",
   "nbconvert_exporter": "python",
   "pygments_lexer": "ipython3",
   "version": "3.6.9"
  }
 },
 "nbformat": 4,
 "nbformat_minor": 2
}
